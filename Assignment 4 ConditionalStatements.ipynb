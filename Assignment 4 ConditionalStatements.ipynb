{
 "cells": [
  {
   "cell_type": "markdown",
   "id": "82a81e12",
   "metadata": {},
   "source": [
    " # Exercise 1\n",
    "# Use all the logical operators for x and y values and see if they are True or False\n",
    "x = 4\n",
    "y = 7\n"
   ]
  },
  {
   "cell_type": "code",
   "execution_count": 1,
   "id": "fc4a87a4",
   "metadata": {},
   "outputs": [
    {
     "name": "stdout",
     "output_type": "stream",
     "text": [
      "Is x greater than y :-  False\n",
      "\n",
      "Is x less than y :-  True\n",
      "\n",
      "Is x equal to y :-  False\n",
      "\n",
      "Is x not equal to y :-  True\n",
      "\n",
      "Is x greater than or equal to y :-  False\n",
      "\n",
      "Is x less than or equal to y :-  True\n",
      "\n",
      "IS x and y are even numbers:-  False\n",
      "\n",
      "Is x or y are even numbers:-  True\n",
      "\n",
      "Is x not even number:-  False\n"
     ]
    }
   ],
   "source": [
    "x=4\n",
    "y=7\n",
    "print('Is x greater than y :- ',x>y)\n",
    "print('\\nIs x less than y :- ',x<y)\n",
    "print('\\nIs x equal to y :- ',x==y)\n",
    "print('\\nIs x not equal to y :- ',x!=y)\n",
    "print('\\nIs x greater than or equal to y :- ',x>=y)\n",
    "print('\\nIs x less than or equal to y :- ',x<=y)\n",
    "print('\\nIS x and y are even numbers:- ',x%2==0 and y%2==0) \n",
    "print('\\nIs x or y are even numbers:- ',x%2==0 or y%2==0)     \n",
    "print('\\nIs x not even number:- ',not(x%2==0) ) "
   ]
  },
  {
   "cell_type": "markdown",
   "id": "f27dc23b",
   "metadata": {},
   "source": [
    "# Exercise 2\n",
    "# Fill in the blank so that the following expression will be True\n",
    "3 __ 4\n"
   ]
  },
  {
   "cell_type": "code",
   "execution_count": 2,
   "id": "74e14e72",
   "metadata": {},
   "outputs": [
    {
     "data": {
      "text/plain": [
       "True"
      ]
     },
     "execution_count": 2,
     "metadata": {},
     "output_type": "execute_result"
    }
   ],
   "source": [
    "3<4"
   ]
  },
  {
   "cell_type": "markdown",
   "id": "75d08895",
   "metadata": {},
   "source": [
    "# Exercise 3\n",
    "# Test whether this expression is True or False and correct it\n",
    "print('shweta' == 'swetha')\n"
   ]
  },
  {
   "cell_type": "code",
   "execution_count": 3,
   "id": "1a42193d",
   "metadata": {},
   "outputs": [
    {
     "name": "stdout",
     "output_type": "stream",
     "text": [
      "False\n"
     ]
    }
   ],
   "source": [
    "print('shweta'=='swetha')"
   ]
  },
  {
   "cell_type": "code",
   "execution_count": 4,
   "id": "3c61941e",
   "metadata": {},
   "outputs": [
    {
     "name": "stdout",
     "output_type": "stream",
     "text": [
      "True\n"
     ]
    }
   ],
   "source": [
    "print('shweta'!='swetha')"
   ]
  },
  {
   "cell_type": "markdown",
   "id": "3c4451b0",
   "metadata": {},
   "source": [
    "# Exercise 4\n",
    "# Test whether the length of your input string is <, > or = 5 characters\n",
    "#Hint:  use if elif else conditions\n"
   ]
  },
  {
   "cell_type": "code",
   "execution_count": 5,
   "id": "01eaf3a7",
   "metadata": {},
   "outputs": [
    {
     "name": "stdout",
     "output_type": "stream",
     "text": [
      "length of string is 5 characters\n"
     ]
    }
   ],
   "source": [
    "str1='rohit'\n",
    "if len(str1)<5:\n",
    "    print('length of string is <5 characters')\n",
    "elif len(str1)>5:\n",
    "    print('length of string is >5 characters')\n",
    "elif len(str1)==5:\n",
    "    print('length of string is 5 characters')"
   ]
  },
  {
   "cell_type": "markdown",
   "id": "8d8ed5b0",
   "metadata": {},
   "source": [
    "# Exercise 5\n",
    "# 1. Check whether person is fully vaccinated or partially vanninated o not vaccinated \n",
    "# 1.1 Solve string mistakes:--> .| , | : | covaxine \n",
    "# 1.2 Add partially vaxinated conditions for all the vaxine types\n",
    "\n",
    "# input: vaccine name and num of doses\n",
    "vaccine=input()\n",
    "num_doses=int(input())\n",
    "\n",
    "# clean string using string manupulation\n",
    "vaccine = vaccine.replace(' ', '') # replace extra spaces\n",
    "vaccine = vaccine.replace('co-vaxin', '') # replace '-'  with nothing\n",
    "vaccine = vaccine.lower() # lower case all the characters in string\n",
    "\n",
    "\n",
    "if vaccine=='covishield' and num_doses==2:\n",
    "    print('Fully vaccinated')\n",
    "elif vaccine=='covaxin' and num_doses==2:\n",
    "    print('Fully vaccinated')\n",
    "elif vaccine=='sputnik' and num_doses==1:\n",
    "    print('Fully vaccinated')\n",
    "else:\n",
    "    print(\"Not fully vaccinated\")\n"
   ]
  },
  {
   "cell_type": "code",
   "execution_count": 6,
   "id": "51794de1",
   "metadata": {
    "scrolled": true
   },
   "outputs": [
    {
     "name": "stdout",
     "output_type": "stream",
     "text": [
      "covaxin\n",
      "1\n",
      "Not fully vaccinated\n"
     ]
    }
   ],
   "source": [
    "vaccine=input()\n",
    "num_doses=int(input())\n",
    "\n",
    "if vaccine=='covishield' and num_doses==2:\n",
    "    print('Fully vaccinated')\n",
    "elif vaccine=='covaxin' and num_doses==2:\n",
    "    print('Fully vaccinated')\n",
    "elif vaccine=='sputnik' and num_doses==1:\n",
    "    print('Fully vaccinated')\n",
    "else:\n",
    "    print(\"Not fully vaccinated\")"
   ]
  },
  {
   "cell_type": "code",
   "execution_count": 10,
   "id": "6ee5822f",
   "metadata": {},
   "outputs": [
    {
     "name": "stdout",
     "output_type": "stream",
     "text": [
      "Name of vaccine:- co-vaxin\n",
      "no. of doses:- 2\n",
      "Fully vaccinated\n"
     ]
    }
   ],
   "source": [
    "vaccine=input('Name of vaccine:- ')\n",
    "vaccine = vaccine.replace(' ', '')\n",
    "vaccine = vaccine.replace('co-vaxin', 'covaxin')\n",
    "vaccine = vaccine.lower()\n",
    "num_doses=int(input('no. of doses:- '))\n",
    "\n",
    "if vaccine=='covishield' and num_doses==2:\n",
    "    print('Fully vaccinated')\n",
    "elif vaccine=='covaxin' and num_doses==2:\n",
    "    print('Fully vaccinated')\n",
    "elif vaccine=='sputnik' and num_doses==2:\n",
    "    print('Fully vaccinated')\n",
    "else:\n",
    "    print(\"Not fully vaccinated\")"
   ]
  },
  {
   "cell_type": "code",
   "execution_count": 8,
   "id": "0432f771",
   "metadata": {},
   "outputs": [
    {
     "name": "stdout",
     "output_type": "stream",
     "text": [
      "Name of vaccine:- covaxin\n",
      "no. of doses:- 1\n",
      "partially vaccinated\n"
     ]
    }
   ],
   "source": [
    "vaccine=input('Name of vaccine:- ')\n",
    "vaccine = vaccine.replace(' ', '')\n",
    "vaccine = vaccine.replace('co-vaxin', 'covaxin')\n",
    "vaccine = vaccine.lower()\n",
    "num_doses=int(input('no. of doses:- '))\n",
    "\n",
    "if vaccine=='covishield' and num_doses==2:\n",
    "    print('Fully vaccinated')\n",
    "elif vaccine=='covishield' and num_doses==1:\n",
    "    print('partially vaccinated')\n",
    "elif vaccine=='covaxin' and num_doses==2:\n",
    "    print('Fully vaccinated')\n",
    "elif vaccine=='covaxin' and num_doses==1:\n",
    "    print('partially vaccinated')\n",
    "elif vaccine=='sputnik' and num_doses==2:\n",
    "    print('Fully vaccinated')\n",
    "elif vaccine=='sputnik' and num_doses==1:\n",
    "    print('partially vaccinated')\n",
    "else:\n",
    "    print(\"Not fully vaccinated\")"
   ]
  },
  {
   "cell_type": "markdown",
   "id": "37c954fb",
   "metadata": {},
   "source": [
    "# Exercise 6\n",
    "# calculate the square of a number if it greater than 5"
   ]
  },
  {
   "cell_type": "code",
   "execution_count": 9,
   "id": "4607ff04",
   "metadata": {},
   "outputs": [
    {
     "name": "stdout",
     "output_type": "stream",
     "text": [
      "enter number:- 6\n",
      "36\n"
     ]
    }
   ],
   "source": [
    "num1=int(input('enter number:- '))\n",
    "if num1>5:\n",
    "    print(num1**2)"
   ]
  }
 ],
 "metadata": {
  "kernelspec": {
   "display_name": "Python 3",
   "language": "python",
   "name": "python3"
  },
  "language_info": {
   "codemirror_mode": {
    "name": "ipython",
    "version": 3
   },
   "file_extension": ".py",
   "mimetype": "text/x-python",
   "name": "python",
   "nbconvert_exporter": "python",
   "pygments_lexer": "ipython3",
   "version": "3.8.8"
  }
 },
 "nbformat": 4,
 "nbformat_minor": 5
}
